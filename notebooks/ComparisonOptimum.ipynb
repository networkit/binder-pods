{
 "cells": [
  {
   "cell_type": "code",
   "execution_count": null,
   "metadata": {},
   "outputs": [],
   "source": [
    "import os"
   ]
  },
  {
   "cell_type": "code",
   "execution_count": null,
   "metadata": {},
   "outputs": [],
   "source": [
    "def readResults(directory):\n",
    "    results = {}\n",
    "    for root, dirs, files in os.walk(directory):\n",
    "        for file in files:\n",
    "            f = open(os.path.join(root, file), \"r\")\n",
    "            i = file.find(\".csv\")\n",
    "            file = file[:i]\n",
    "            results[file] = {}\n",
    "            for line in f:\n",
    "                if line.startswith(\"Node\"):\n",
    "                    continue\n",
    "                fields = line.split()\n",
    "                node = int(fields[0])\n",
    "                results[file][node] = {}\n",
    "                for i in range(1, len(fields)):\n",
    "                    results[file][node][i-1] = float(fields[i])\n",
    "    return results"
   ]
  },
  {
   "cell_type": "code",
   "execution_count": null,
   "metadata": {},
   "outputs": [],
   "source": [
    "resultsGreedy = readResults('../scripts/resultsSmallGreedy')\n",
    "resultsOptimum = readResults('../scripts/resultsSmallOptimum/')"
   ]
  },
  {
   "cell_type": "code",
   "execution_count": null,
   "metadata": {},
   "outputs": [],
   "source": [
    "def computeRatio(greedy, optimum):\n",
    "    ratio = 1.0\n",
    "    maxK = 7\n",
    "    for node in greedy:\n",
    "        for k in range(1, maxK+1):\n",
    "            if optimum[node][k] > 0 and greedy[node][k]/optimum[node][k] < ratio:\n",
    "                ratio = greedy[node][k]/optimum[node][k]\n",
    "    return ratio"
   ]
  },
  {
   "cell_type": "code",
   "execution_count": null,
   "metadata": {},
   "outputs": [],
   "source": [
    "ratios = {\"PA\" : 1.0, \"COPY\" : 1.0, \"COMP200\" : 1.0, \"COMP500\" : 1.0}\n",
    "\n",
    "for graph in resultsOptimum:\n",
    "    ratio = computeRatio(resultsGreedy[graph], resultsOptimum[graph])\n",
    "    if graph.startswith(\"pa\") and ratio < ratios[\"PA\"]:\n",
    "        ratios[\"PA\"] = ratio\n",
    "    if graph.startswith(\"copy\") and ratio < ratios[\"COPY\"]:\n",
    "        ratios[\"COPY\"] = ratio\n",
    "    if graph.startswith(\"compressible.n100.k2\") and ratio < ratios[\"COMP200\"]:\n",
    "        ratios[\"COMP200\"] = ratio\n",
    "    if graph.startswith(\"compressible.n100.k5\") and ratio < ratios[\"COMP500\"]:\n",
    "        ratios[\"COMP500\"] = ratio"
   ]
  },
  {
   "cell_type": "code",
   "execution_count": null,
   "metadata": {},
   "outputs": [],
   "source": [
    "ratios"
   ]
  },
  {
   "cell_type": "code",
   "execution_count": null,
   "metadata": {},
   "outputs": [],
   "source": []
  }
 ],
 "metadata": {
  "kernelspec": {
   "display_name": "Python 3",
   "language": "python",
   "name": "python3"
  },
  "language_info": {
   "codemirror_mode": {
    "name": "ipython",
    "version": 3
   },
   "file_extension": ".py",
   "mimetype": "text/x-python",
   "name": "python",
   "nbconvert_exporter": "python",
   "pygments_lexer": "ipython3",
   "version": "3.9.6"
  }
 },
 "nbformat": 4,
 "nbformat_minor": 1
}
