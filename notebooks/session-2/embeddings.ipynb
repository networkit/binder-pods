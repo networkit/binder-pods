{
 "cells": [
  {
   "cell_type": "code",
   "execution_count": null,
   "id": "tight-teddy",
   "metadata": {},
   "outputs": [],
   "source": [
    "import networkit as nk\n",
    "import matplotlib.pyplot as plt"
   ]
  },
  {
   "cell_type": "markdown",
   "id": "diagnostic-boating",
   "metadata": {},
   "source": [
    "## Read graph."
   ]
  },
  {
   "cell_type": "code",
   "execution_count": null,
   "id": "collaborative-concentration",
   "metadata": {},
   "outputs": [],
   "source": [
    "G = nk.readGraph(\"../input/lesmis.graph\", nk.Format.METIS)"
   ]
  },
  {
   "cell_type": "markdown",
   "id": "honest-defensive",
   "metadata": {},
   "source": [
    "## Compute embedding (= obtain feature vectors)."
   ]
  },
  {
   "cell_type": "code",
   "execution_count": null,
   "id": "trying-blood",
   "metadata": {},
   "outputs": [],
   "source": [
    "embed_algo = nk.embedding.Node2Vec(G, D=2) # Two dimensional embedding.\n",
    "embed_algo.run()\n",
    "fvs = embed_algo.getFeatures()"
   ]
  },
  {
   "cell_type": "markdown",
   "id": "final-beach",
   "metadata": {},
   "source": [
    "## Visualize communities of the graph within the embedding."
   ]
  },
  {
   "cell_type": "code",
   "execution_count": null,
   "id": "digital-blink",
   "metadata": {},
   "outputs": [],
   "source": [
    "cluster_algo = nk.community.PLM(G)\n",
    "cluster_algo.run()\n",
    "partition = cluster_algo.getPartition()\n",
    "\n",
    "for s in range(partition.upperBound()):\n",
    "    us = [u for u in G.iterNodes() if partition.subsetOf(u) == s]\n",
    "    x = [fvs[u][0] for u in us]\n",
    "    y = [fvs[u][1] for u in us]\n",
    "    plt.scatter(x, y)"
   ]
  }
 ],
 "metadata": {
  "kernelspec": {
   "display_name": "Python 3",
   "language": "python",
   "name": "python3"
  },
  "language_info": {
   "codemirror_mode": {
    "name": "ipython",
    "version": 3
   },
   "file_extension": ".py",
   "mimetype": "text/x-python",
   "name": "python",
   "nbconvert_exporter": "python",
   "pygments_lexer": "ipython3",
   "version": "3.8.6"
  }
 },
 "nbformat": 4,
 "nbformat_minor": 5
}
