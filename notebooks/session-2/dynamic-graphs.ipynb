{
 "cells": [
  {
   "cell_type": "code",
   "execution_count": null,
   "id": "muslim-profession",
   "metadata": {},
   "outputs": [],
   "source": [
    "import networkit as nk"
   ]
  },
  {
   "cell_type": "markdown",
   "id": "satellite-castle",
   "metadata": {},
   "source": [
    "## Read full graph; we will rebuild this graph out of single edge additions."
   ]
  },
  {
   "cell_type": "code",
   "execution_count": null,
   "id": "northern-regular",
   "metadata": {},
   "outputs": [],
   "source": [
    "G_full = nk.readGraph(\"../input/karate.graph\", nk.Format.METIS)"
   ]
  },
  {
   "cell_type": "markdown",
   "id": "textile-banner",
   "metadata": {},
   "source": [
    "## Rebuild graph edge-by-edge, maintain number of components."
   ]
  },
  {
   "cell_type": "code",
   "execution_count": null,
   "id": "central-supervisor",
   "metadata": {},
   "outputs": [],
   "source": [
    "G = nk.Graph(G_full.upperNodeIdBound(), directed=False, weighted=False)\n",
    "\n",
    "cc = nk.components.DynConnectedComponents(G)\n",
    "cc.run()\n",
    "n_cc = cc.numberOfComponents()\n",
    "\n",
    "for (u, v) in G_full.iterEdges():\n",
    "    evt = nk.dynamic.GraphEvent(nk.dynamic.GraphEvent.EDGE_ADDITION, u, v, 1.0)\n",
    "    G.addEdge(u, v)\n",
    "    cc.update(evt)\n",
    "    \n",
    "    if n_cc != cc.numberOfComponents():\n",
    "        print(f\"After adding {G.numberOfEdges()} edges, there are {cc.numberOfComponents()} components left\")\n",
    "        n_cc = cc.numberOfComponents()\n",
    "print()\n",
    "print(f\"The full graph has {G.numberOfEdges()} edges\")"
   ]
  },
  {
   "cell_type": "markdown",
   "id": "passing-teddy",
   "metadata": {},
   "source": [
    "## Rebuild graph edge-by-edge, maintain vertex with highest (harmonic) closeness centrality."
   ]
  },
  {
   "cell_type": "code",
   "execution_count": null,
   "id": "asian-priority",
   "metadata": {},
   "outputs": [],
   "source": [
    "G = nk.Graph(G_full.upperNodeIdBound(), directed=False, weighted=False)\n",
    "\n",
    "hc = nk.centrality.DynTopHarmonicCloseness(G, 1)\n",
    "hc.run()\n",
    "w, val = hc.ranking()[0]\n",
    "print(f\"The top ranked node is {w}\")\n",
    "\n",
    "for (u, v) in G_full.iterEdges():\n",
    "    evt = nk.dynamic.GraphEvent(nk.dynamic.GraphEvent.EDGE_ADDITION, u, v, 1.0)\n",
    "    G.addEdge(u, v)\n",
    "    hc.update(evt)\n",
    "\n",
    "    new_w, val = hc.ranking()[0]\n",
    "    if w != new_w:\n",
    "        print(f\"The top ranked node is {new_w} after {G.numberOfEdges()} edge additions\")\n",
    "        w = new_w"
   ]
  }
 ],
 "metadata": {
  "kernelspec": {
   "display_name": "Python 3",
   "language": "python",
   "name": "python3"
  },
  "language_info": {
   "codemirror_mode": {
    "name": "ipython",
    "version": 3
   },
   "file_extension": ".py",
   "mimetype": "text/x-python",
   "name": "python",
   "nbconvert_exporter": "python",
   "pygments_lexer": "ipython3",
   "version": "3.8.6"
  }
 },
 "nbformat": 4,
 "nbformat_minor": 5
}
