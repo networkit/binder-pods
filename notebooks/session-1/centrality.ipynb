{
 "cells": [
  {
   "cell_type": "markdown",
   "id": "other-conspiracy",
   "metadata": {},
   "source": [
    "# Centrality Notebook\n",
    "\n",
    "In this notebook we use NetworKit to compute popular centrality measures."
   ]
  },
  {
   "cell_type": "code",
   "execution_count": null,
   "id": "equal-substitute",
   "metadata": {},
   "outputs": [],
   "source": [
    "import networkit as nk\n",
    "from networkit import csbridge\n",
    "import seaborn as sns"
   ]
  },
  {
   "cell_type": "markdown",
   "id": "stuck-hardwood",
   "metadata": {},
   "source": [
    "Read a graph"
   ]
  },
  {
   "cell_type": "code",
   "execution_count": null,
   "id": "latin-reply",
   "metadata": {},
   "outputs": [],
   "source": [
    "g = nk.graphio.KONECTGraphReader().read('../input/karate')\n",
    "print(f'The graph has {g.numberOfNodes()} nodes and {g.numberOfEdges()} edges.')"
   ]
  },
  {
   "cell_type": "markdown",
   "id": "extended-startup",
   "metadata": {},
   "source": [
    "# Algebraic Centrality Measures"
   ]
  },
  {
   "cell_type": "markdown",
   "id": "missing-flavor",
   "metadata": {},
   "source": [
    "### Eigenvector Centrality\n",
    "\n",
    "$$\n",
    "c(u) = \\frac{1}{\\lambda}\\sum_{v\\in N(u)}c(v)\n",
    "$$"
   ]
  },
  {
   "cell_type": "code",
   "execution_count": null,
   "id": "sticky-prior",
   "metadata": {},
   "outputs": [],
   "source": [
    "# 1. Initialize algorithm\n",
    "ec = nk.centrality.EigenvectorCentrality(g, tol=1e-9)\n",
    "\n",
    "# 2. Run the algorithm\n",
    "ec.run()\n",
    "\n",
    "# 3. Retrieve the results\n",
    "ec_ranking = ec.ranking()\n",
    "\n",
    "# Print the top-5 nodes\n",
    "print(\"Node\\tScore\")\n",
    "for u, score in ec_ranking[:5]:\n",
    "    print(\"{:d}\\t{:.2f}\".format(u, score))"
   ]
  },
  {
   "cell_type": "code",
   "execution_count": null,
   "id": "electric-mayor",
   "metadata": {},
   "outputs": [],
   "source": [
    "csbridge.widget_from_graph(g, node_scores=ec.scores(), node_palette=sns.color_palette(\"vlag\"))"
   ]
  },
  {
   "cell_type": "markdown",
   "id": "supreme-transportation",
   "metadata": {},
   "source": [
    "## PageRank\n",
    "\n",
    "$$\n",
    "PR(u) = \\frac{1 - d}{n} + d\\sum_{v \\in N(u)}\\frac{PR(v)}{\\deg(v)}\n",
    "$$"
   ]
  },
  {
   "cell_type": "code",
   "execution_count": null,
   "id": "informal-zoning",
   "metadata": {},
   "outputs": [],
   "source": [
    "# 1. Initialize algorithm\n",
    "pr = nk.centrality.PageRank(g, damp=0.85, tol=1e-9)\n",
    "\n",
    "# Choose the norm used for convergence (default: l2 norm)\n",
    "pr.norm = nk.centrality.Norm.l1norm\n",
    "\n",
    "# 2. Run the algorithm\n",
    "pr.run()\n",
    "\n",
    "# 3. Retrieve the results\n",
    "pr_ranking = pr.ranking()\n",
    "\n",
    "# Print top-5 nodes\n",
    "print(\"Node\\tScore\")\n",
    "for u, score in pr_ranking[:5]:\n",
    "    print(\"{:d}\\t{:.2f}\".format(u, score))"
   ]
  },
  {
   "cell_type": "code",
   "execution_count": null,
   "id": "dated-virtue",
   "metadata": {},
   "outputs": [],
   "source": [
    "csbridge.widget_from_graph(g, node_scores=pr.scores(), node_palette=sns.color_palette(\"vlag\"))"
   ]
  },
  {
   "cell_type": "markdown",
   "id": "burning-corporation",
   "metadata": {},
   "source": [
    "# Shortest-path-based Centrality Measures"
   ]
  },
  {
   "cell_type": "markdown",
   "id": "boring-wheat",
   "metadata": {},
   "source": [
    "## Betweenness Centrality\n",
    "\n",
    "$\\delta_{st}$: number of $s$-$t$ shortest paths.\n",
    "\n",
    "$\\delta_{st}(u)$: fraction of $s$-$t$ shortest paths crossing $u$.\n",
    "\n",
    "$$\n",
    "bc(u) = \\sum_{s \\neq u \\neq v \\in V}\\frac{\\delta_{st}(u)}{\\delta_{st}}\n",
    "$$\n",
    "\n",
    "Using Brandes's algorithm:"
   ]
  },
  {
   "cell_type": "code",
   "execution_count": null,
   "id": "champion-packet",
   "metadata": {},
   "outputs": [],
   "source": [
    "bc = nk.centrality.Betweenness(g, normalized=True, computeEdgeCentrality=False)\n",
    "\n",
    "bc.run()\n",
    "\n",
    "bc_ranking = bc.ranking()\n",
    "\n",
    "# Print top-5 nodes\n",
    "print(\"Node\\tScore\")\n",
    "for u, score in bc_ranking[:5]:\n",
    "    print(\"{:d}\\t{:.2f}\".format(u, score))"
   ]
  },
  {
   "cell_type": "code",
   "execution_count": null,
   "id": "cardiac-foster",
   "metadata": {},
   "outputs": [],
   "source": [
    "csbridge.widget_from_graph(g, node_scores=bc.scores(), node_palette=sns.color_palette(\"vlag\"))"
   ]
  },
  {
   "cell_type": "markdown",
   "id": "moved-ecuador",
   "metadata": {},
   "source": [
    "## Betweenness Approximation\n",
    "Exact computation unfeasible in large graphs.\n",
    "\n",
    "Kadabra algorithm: $\\varepsilon$-approximation with high probability (or top-$k$ ranking) with parallel adaptive sampling."
   ]
  },
  {
   "cell_type": "code",
   "execution_count": null,
   "id": "afraid-athens",
   "metadata": {},
   "outputs": [],
   "source": [
    "g_large = nk.graphio.METISGraphReader().read('../input/PGPgiantcompo.graph')\n",
    "print(\"The graph has {:,} nodes and {:,} edges.\".format(g_large.numberOfNodes(), g_large.numberOfEdges()))"
   ]
  },
  {
   "cell_type": "markdown",
   "id": "boring-implement",
   "metadata": {},
   "source": [
    "Run the Kadabra algorithm:"
   ]
  },
  {
   "cell_type": "code",
   "execution_count": null,
   "id": "successful-collection",
   "metadata": {},
   "outputs": [],
   "source": [
    "# eps-approx for all the vertices in the graph\n",
    "kb = nk.centrality.KadabraBetweenness(g_large, err=0.01).run()\n",
    "# exact top-k computation\n",
    "#kb = nk.centrality.KadabraBetweenness(g_large, k=5).run()\n",
    "\n",
    "bc_ranking = kb.ranking()\n",
    "\n",
    "print(\"Node\\tScore\")\n",
    "for u, score in bc_ranking[:5]:\n",
    "    print(\"{:d}\\t{:.3f}\".format(u, score))"
   ]
  },
  {
   "cell_type": "markdown",
   "id": "discrete-traffic",
   "metadata": {},
   "source": [
    "## Harmonic Centrality\n",
    "\n",
    "$$\n",
    "hc(u) = \\frac{1}{n-1}\\sum_{v \\neq u}\\frac{1}{d(u, v)}\n",
    "$$"
   ]
  },
  {
   "cell_type": "code",
   "execution_count": null,
   "id": "absent-reading",
   "metadata": {},
   "outputs": [],
   "source": [
    "hc = nk.centrality.HarmonicCloseness(g, normalized=True).run()\n",
    "hc_ranking = hc.ranking()\n",
    "\n",
    "# Print top-5 nodes\n",
    "print(\"Node\\tScore\")\n",
    "for u, score in hc_ranking[:5]:\n",
    "    print(\"{:d}\\t{:.2f}\".format(u, score))"
   ]
  },
  {
   "cell_type": "code",
   "execution_count": null,
   "id": "official-community",
   "metadata": {},
   "outputs": [],
   "source": [
    "csbridge.widget_from_graph(g, node_scores=hc.scores(), node_palette=sns.color_palette(\"vlag\"))"
   ]
  },
  {
   "cell_type": "markdown",
   "id": "original-equivalent",
   "metadata": {},
   "source": [
    "## Top-$k$ Harmonic Centrality\n",
    "Naive algorithm: BFS/Dijkstra from each vertex $\\leadsto$ unfeasible on large graphs.\n",
    "\n",
    "Often, only the top-$k$ most important vertices are required.\n",
    "\n",
    "Efficient and parallel top-$k$ harmonic centrality computation (Bergamini et al., ALENEX 2016)."
   ]
  },
  {
   "cell_type": "code",
   "execution_count": null,
   "id": "german-example",
   "metadata": {},
   "outputs": [],
   "source": [
    "top_hc = nk.centrality.TopHarmonicCloseness(g_large, k=5, useNBbound=False).run()\n",
    "\n",
    "# Print top-5 nodes\n",
    "print(\"Node\\tScore\")\n",
    "for u, score in zip(top_hc.topkNodesList(), top_hc.topkScoresList()):\n",
    "    print(\"{:d}\\t{:.2f}\".format(u, score))"
   ]
  },
  {
   "cell_type": "markdown",
   "id": "civic-binding",
   "metadata": {},
   "source": [
    "# Exercise 1\n",
    "\n",
    "Do you think your number of online friends is above/below/on average? (You do not have to answer this question openly.) Answer (may be secret):\n",
    "\n",
    "What do you expect: How many people (in percent) in a social network have fewer friends than their friends on average? Answer (choose one): a) 0 - 25% b) 26 - 50% c) 51 - 75% d) 76 - 100%\n",
    "\n",
    "Use the Facebook graph. Compute for each vertex the average degree of its neighbors. Answer:\n",
    "\n",
    "Count the number of persons whose friends have on average more friends. What is their percentage in this network? Answer:"
   ]
  },
  {
   "cell_type": "code",
   "execution_count": null,
   "id": "sudden-championship",
   "metadata": {},
   "outputs": [],
   "source": [
    "fb = nk.graphio.SNAPGraphReader().read('../input/facebook')\n",
    "print('This graph has {:,} nodes and {:,} edges'.format(fb.numberOfNodes(), fb.numberOfEdges()))"
   ]
  },
  {
   "cell_type": "code",
   "execution_count": null,
   "id": "coordinated-doubt",
   "metadata": {},
   "outputs": [],
   "source": [
    "# Write your solution here\n",
    "# Use:\n",
    "# - fb.iterNodes() to iterate over all the nodes of a graph\n",
    "# - fb.iterNeighbors(u) to iterate over the neighbors of u\n",
    "# - fb.degree(u) to get the degree of u"
   ]
  },
  {
   "cell_type": "markdown",
   "id": "serial-surfing",
   "metadata": {},
   "source": [
    "# Exercise 2\n",
    "\n",
    "A Song of Ice and Fire is a very long novel with many characters.\n",
    "\n",
    "Here we will try to identify important characters according to how much they interact with other characters.\n",
    "\n",
    "The graph that we use is taken from https://github.com/mathbeveridge/asoiaf, every vertex is a character and every edge represents interactions between the characters."
   ]
  },
  {
   "cell_type": "code",
   "execution_count": null,
   "id": "suburban-vitamin",
   "metadata": {},
   "outputs": [],
   "source": [
    "# Read the graph\n",
    "got = nk.graphio.EdgeListReader(separator=' ', firstNode=0, continuous=True, directed=False).read('../input/got_edges.txt')\n",
    "print(f'There are {got.numberOfNodes()} characters and {got.numberOfEdges()} interactions.')\n",
    "\n",
    "# Read the character list\n",
    "characters = []\n",
    "with open('../input/got_names.txt', 'r') as f:\n",
    "    for character in f.readlines():\n",
    "        characters.append(character.strip())\n",
    "\n",
    "idx = 48\n",
    "print(f'The character at index {idx} is {characters[idx]}')"
   ]
  },
  {
   "cell_type": "markdown",
   "id": "eight-secret",
   "metadata": {},
   "source": [
    "### $k$-core decomposition to identify the main characters\n",
    "\n",
    "$k$-core: maximal connected subgraph in which all vertices have degree $ \\ge k$.\n",
    "\n",
    "Use the `CoreDecomposition` algorithm (`community` module) in NetworKit to identify the characters with the most inner core.\n",
    "\n",
    "The core in which every character belongs can be extracted using the `scores()` function in `CoreDecomposition`.\n",
    "\n",
    "The most inner core is the one with highest score. The highest core number can be obtained from the `maxCoreNumber()` function in `CoreDecomposition`."
   ]
  },
  {
   "cell_type": "code",
   "execution_count": null,
   "id": "conceptual-morning",
   "metadata": {},
   "outputs": [],
   "source": [
    "# Write your solution here"
   ]
  },
  {
   "cell_type": "markdown",
   "id": "irish-death",
   "metadata": {},
   "source": [
    "### Most central character\n",
    "Which character is the most important according to the centrality measures we experimented above? Is this expected?"
   ]
  },
  {
   "cell_type": "code",
   "execution_count": null,
   "id": "arctic-egypt",
   "metadata": {},
   "outputs": [],
   "source": [
    "centr = nk.centrality.Betweenness(got).run()\n",
    "print(characters[centr.ranking()[0][0]])"
   ]
  }
 ],
 "metadata": {
  "kernelspec": {
   "display_name": "Python 3",
   "language": "python",
   "name": "python3"
  },
  "language_info": {
   "codemirror_mode": {
    "name": "ipython",
    "version": 3
   },
   "file_extension": ".py",
   "mimetype": "text/x-python",
   "name": "python",
   "nbconvert_exporter": "python",
   "pygments_lexer": "ipython3",
   "version": "3.9.2"
  }
 },
 "nbformat": 4,
 "nbformat_minor": 5
}
