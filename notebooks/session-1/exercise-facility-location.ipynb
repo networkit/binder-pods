{
 "cells": [
  {
   "cell_type": "markdown",
   "id": "brown-packaging",
   "metadata": {},
   "source": [
    "# Exercise 3: Facility Location\n",
    "\n",
    "You are at the head of a chain of supermarkets and you want to open new stores in various locations around the world.\n",
    "\n",
    "You have the road network $G$ of each location, and you want to place $k$ stores in strategic points (vertices) of $G$ so that the distance from every point in $G$ to the nearest store is minimized.\n",
    "\n",
    "A good way to identify such groups of central points in a network is *group centrality*.\n",
    "\n",
    "Use the `GroupCloseness` algorithm in the `centrality` module to identify the coordinates of the most central points in a location. Visualize your results on a map (see below for further instructions)."
   ]
  },
  {
   "cell_type": "code",
   "execution_count": null,
   "id": "separate-filename",
   "metadata": {},
   "outputs": [],
   "source": [
    "import networkit as nk\n",
    "import numpy as np"
   ]
  },
  {
   "cell_type": "code",
   "execution_count": null,
   "id": "involved-discount",
   "metadata": {},
   "outputs": [],
   "source": [
    "# Name of the location (available for this demo: ['monaco', 'liechtenstein', 'isle-of-man', 'andorra'])\n",
    "location = 'monaco'\n",
    "\n",
    "# Read the street network\n",
    "g = nk.graphio.NetworkitBinaryReader().read(f'../input/street/{location}.nkb')\n",
    "\n",
    "# Read the coordinates of every vertex\n",
    "lat, lon = np.fromfile(f'../input/street/{location}_latitudes', dtype=np.float32), np.fromfile(f'../input/street/{location}_longitudes', np.float32)"
   ]
  },
  {
   "cell_type": "code",
   "execution_count": null,
   "id": "ultimate-franklin",
   "metadata": {},
   "outputs": [],
   "source": [
    "# Compute the k most central vertices according to GroupCloseness.\n",
    "# Use 'groupMaxCloseness' to get the resulting group.\n",
    "\n",
    "# Write your solution here, store the resulting group into a 'group' variable"
   ]
  },
  {
   "cell_type": "code",
   "execution_count": null,
   "id": "compliant-meaning",
   "metadata": {},
   "outputs": [],
   "source": [
    "for i in group:\n",
    "    print('{:.5f},{:.5f},'.format(lat[i], lon[i]))"
   ]
  },
  {
   "cell_type": "markdown",
   "id": "consolidated-variable",
   "metadata": {},
   "source": [
    "Paste the above coordinates in this online tool to see your results: https://mobisoftinfotech.com/tools/plot-multiple-points-on-map/"
   ]
  }
 ],
 "metadata": {
  "kernelspec": {
   "display_name": "Python 3",
   "language": "python",
   "name": "python3"
  },
  "language_info": {
   "codemirror_mode": {
    "name": "ipython",
    "version": 3
   },
   "file_extension": ".py",
   "mimetype": "text/x-python",
   "name": "python",
   "nbconvert_exporter": "python",
   "pygments_lexer": "ipython3",
   "version": "3.9.2"
  }
 },
 "nbformat": 4,
 "nbformat_minor": 5
}
