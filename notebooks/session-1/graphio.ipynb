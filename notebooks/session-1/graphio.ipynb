{
 "cells": [
  {
   "cell_type": "markdown",
   "id": "revised-blair",
   "metadata": {},
   "source": [
    "# Graph I/O and Visualization"
   ]
  },
  {
   "cell_type": "code",
   "execution_count": null,
   "id": "impressive-therapy",
   "metadata": {},
   "outputs": [],
   "source": [
    "import networkit as nk\n",
    "from networkit import csbridge\n",
    "\n",
    "def print_size(g):\n",
    "    print('n = {:,}   m = {:,}'.format(g.numberOfNodes(), g.numberOfEdges()))"
   ]
  },
  {
   "cell_type": "code",
   "execution_count": null,
   "id": "surgical-stocks",
   "metadata": {},
   "outputs": [],
   "source": [
    "# Read a METIS Graph (sparse adjacency matrix)\n",
    "\n",
    "g = nk.graphio.METISGraphReader().read('../input/PGPgiantcompo.graph')\n",
    "print_size(g)"
   ]
  },
  {
   "cell_type": "code",
   "execution_count": null,
   "id": "intellectual-tutorial",
   "metadata": {},
   "outputs": [],
   "source": [
    "# Read a KONECT graph (adjacency list)\n",
    "\n",
    "g = nk.graphio.KONECTGraphReader().read('../input/karate')\n",
    "print_size(g)"
   ]
  },
  {
   "cell_type": "code",
   "execution_count": null,
   "id": "moving-january",
   "metadata": {},
   "outputs": [],
   "source": [
    "# Visualize with ipycytoscape\n",
    "csbridge.widget_from_graph(g)"
   ]
  },
  {
   "cell_type": "code",
   "execution_count": null,
   "id": "generic-sewing",
   "metadata": {},
   "outputs": [],
   "source": [
    "# Visualize with Gephi (only on your local machine)\n",
    "client = nk.gephi.streaming.GephiStreamingClient(\"http://localhost:8080/workspace1\")\n",
    "client.exportGraph(g)"
   ]
  }
 ],
 "metadata": {
  "kernelspec": {
   "display_name": "Python 3",
   "language": "python",
   "name": "python3"
  },
  "language_info": {
   "codemirror_mode": {
    "name": "ipython",
    "version": 3
   },
   "file_extension": ".py",
   "mimetype": "text/x-python",
   "name": "python",
   "nbconvert_exporter": "python",
   "pygments_lexer": "ipython3",
   "version": "3.9.2"
  }
 },
 "nbformat": 4,
 "nbformat_minor": 5
}
