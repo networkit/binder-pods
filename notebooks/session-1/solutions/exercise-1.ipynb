{
 "cells": [
  {
   "cell_type": "code",
   "execution_count": 2,
   "id": "cross-creation",
   "metadata": {},
   "outputs": [
    {
     "name": "stdout",
     "output_type": "stream",
     "text": [
      "This graph has 4,039 nodes and 88,234 edges\n",
      "87.47% of the people have fewer frients than their frients on average.\n"
     ]
    }
   ],
   "source": [
    "import networkit as nk\n",
    "\n",
    "fb = nk.graphio.SNAPGraphReader().read('../../input/facebook')\n",
    "print('This graph has {:,} nodes and {:,} edges'.format(fb.numberOfNodes(), fb.numberOfEdges()))\n",
    "\n",
    "def avg_deg_neigh(g, u):\n",
    "    if g.degree(u) == 0:\n",
    "        return 0\n",
    "\n",
    "    total_deg = 0\n",
    "    for v in g.iterNeighbors(u):\n",
    "        total_deg += g.degree(v)\n",
    "\n",
    "    return total_deg / g.degree(u)\n",
    "\n",
    "n = fb.numberOfNodes()\n",
    "answer = 100 * sum([1 if avg_deg_neigh(fb, u) > fb.degree(u) else 0 for u in fb.iterNodes()]) / n\n",
    "print(\"{:.2f}% of the people have fewer frients than their frients on average.\".format(answer))"
   ]
  }
 ],
 "metadata": {
  "kernelspec": {
   "display_name": "Python 3",
   "language": "python",
   "name": "python3"
  },
  "language_info": {
   "codemirror_mode": {
    "name": "ipython",
    "version": 3
   },
   "file_extension": ".py",
   "mimetype": "text/x-python",
   "name": "python",
   "nbconvert_exporter": "python",
   "pygments_lexer": "ipython3",
   "version": "3.9.2"
  }
 },
 "nbformat": 4,
 "nbformat_minor": 5
}
