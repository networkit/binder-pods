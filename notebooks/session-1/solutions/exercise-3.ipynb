{
 "cells": [
  {
   "cell_type": "code",
   "execution_count": 2,
   "id": "announced-myanmar",
   "metadata": {},
   "outputs": [
    {
     "name": "stdout",
     "output_type": "stream",
     "text": [
      "43.73445,7.41809,\n",
      "43.74160,7.42687,\n",
      "43.72818,7.41678,\n",
      "43.74284,7.43051,\n",
      "43.73233,7.42238,\n"
     ]
    }
   ],
   "source": [
    "import networkit as nk\n",
    "import numpy as np\n",
    "\n",
    "# Name of the location (available for this demo: ['monaco', 'liechtenstein', 'isle-of-man', 'andorra'])\n",
    "location = 'monaco'\n",
    "\n",
    "# Read the street network\n",
    "g = nk.graphio.NetworkitBinaryReader().read(f'../../input/street/{location}.nkb')\n",
    "\n",
    "# Read the coordinates of every vertex\n",
    "lat, lon = np.fromfile(f'../../input/street/{location}_latitudes', dtype=np.float32), np.fromfile(f'../../input/street/{location}_longitudes', np.float32)\n",
    "\n",
    "group = nk.centrality.GroupCloseness(g, 5).run().groupMaxCloseness()\n",
    "\n",
    "for i in group:\n",
    "    print('{:.5f},{:.5f},'.format(lat[i], lon[i]))"
   ]
  }
 ],
 "metadata": {
  "kernelspec": {
   "display_name": "Python 3",
   "language": "python",
   "name": "python3"
  },
  "language_info": {
   "codemirror_mode": {
    "name": "ipython",
    "version": 3
   },
   "file_extension": ".py",
   "mimetype": "text/x-python",
   "name": "python",
   "nbconvert_exporter": "python",
   "pygments_lexer": "ipython3",
   "version": "3.9.2"
  }
 },
 "nbformat": 4,
 "nbformat_minor": 5
}
