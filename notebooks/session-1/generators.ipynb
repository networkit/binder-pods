{
 "cells": [
  {
   "cell_type": "markdown",
   "id": "north-demographic",
   "metadata": {},
   "source": [
    "# Graph Generators"
   ]
  },
  {
   "cell_type": "code",
   "execution_count": null,
   "id": "following-fifty",
   "metadata": {},
   "outputs": [],
   "source": [
    "import networkit as nk\n",
    "from networkit import csbridge"
   ]
  },
  {
   "cell_type": "markdown",
   "id": "civil-elephant",
   "metadata": {},
   "source": [
    "## ER Model\n",
    "\n",
    "$ER(n, p)$ each edge is included in $G$ with probability $p \\leadsto G$ has $n$ nodes and $E[m] = p\\cdot\\binom{n}{2}$ edges."
   ]
  },
  {
   "cell_type": "code",
   "execution_count": null,
   "id": "incredible-soccer",
   "metadata": {},
   "outputs": [],
   "source": [
    "n, p = 30, 0.2\n",
    "\n",
    "nk.engineering.setSeed(42, True)\n",
    "\n",
    "g = nk.generators.ErdosRenyiGenerator(n, p).generate()\n",
    "\n",
    "print(\"Generated graph: {:,} nodes and {:,} edges\".format(g.numberOfNodes(), g.numberOfEdges()))"
   ]
  },
  {
   "cell_type": "code",
   "execution_count": null,
   "id": "hispanic-egyptian",
   "metadata": {},
   "outputs": [],
   "source": [
    "csbridge.widget_from_graph(g)"
   ]
  },
  {
   "cell_type": "markdown",
   "id": "preceding-patio",
   "metadata": {},
   "source": [
    "## Barabási–Albert\n",
    "\n",
    "Generates scale-free networks via preferential attachment:\n",
    "- start from a connected graph with $n_0$ vertices\n",
    "- $n - n_0$ new nodes are added\n",
    "- every new node $u$ is connected to an existing node $v$ with probability\n",
    "\n",
    "$$\n",
    "   p = \\frac{\\deg(v)}{\\sum_{w \\in G}\\deg(w)}\n",
    "$$"
   ]
  },
  {
   "cell_type": "code",
   "execution_count": null,
   "id": "reduced-motivation",
   "metadata": {},
   "outputs": [],
   "source": [
    "n = 70                 # Number of nodes\n",
    "n0 = 10                # Number of nodes in the initial graph\n",
    "edges_per_new_node = 2 # Number of edges per new node\n",
    "\n",
    "g = nk.generators.BarabasiAlbertGenerator(k=edges_per_new_node, nMax=n, n0=n0).generate()\n",
    "print(\"Generated graph: {:,} nodes and {:,} edges\".format(g.numberOfNodes(), g.numberOfEdges()))"
   ]
  },
  {
   "cell_type": "code",
   "execution_count": null,
   "id": "loaded-above",
   "metadata": {},
   "outputs": [],
   "source": [
    "wdg = csbridge.widget_from_graph(g)\n",
    "wdg.set_layout(name='circle')\n",
    "wdg"
   ]
  },
  {
   "cell_type": "markdown",
   "id": "powered-comparison",
   "metadata": {},
   "source": [
    "## R-MAT\n",
    "\n",
    "Recursive MATrix:\n",
    "- recursively divide the adjacency matrix into 4 equal blocks\n",
    "- each edge is assigned to one of the block with different probabilities $a, b, c, d$\n",
    "\n",
    "<img src=\"./images/R-MAT.png\" alt=\"drawing\" width=\"300\"/>\n",
    "[source: Chakrbarti et al. R-MAT: A Recursive Model for Graph Mining]"
   ]
  },
  {
   "cell_type": "code",
   "execution_count": null,
   "id": "mechanical-reaction",
   "metadata": {},
   "outputs": [],
   "source": [
    "# scale: number of nodes are 2^scale\n",
    "# edgeFactor: #of edges / #of nodes\n",
    "# a,b,c,d: R-Mat parameters\n",
    "\n",
    "g = nk.generators.RmatGenerator(scale = 5, edgeFactor = 6, a = 0.57, b = 0.19, c = 0.19, d = 0.05).generate()\n",
    "print(\"Generated graph: {:,} nodes and {:,} edges\".format(g.numberOfNodes(), g.numberOfEdges()))"
   ]
  },
  {
   "cell_type": "code",
   "execution_count": null,
   "id": "incoming-questionnaire",
   "metadata": {},
   "outputs": [],
   "source": [
    "widg = csbridge.widget_from_graph(g)\n",
    "widg.set_layout(name='circle')\n",
    "widg"
   ]
  },
  {
   "cell_type": "markdown",
   "id": "original-welding",
   "metadata": {},
   "source": [
    "Large R-MAT graph: generates several small disconnected components."
   ]
  },
  {
   "cell_type": "code",
   "execution_count": null,
   "id": "reasonable-lawsuit",
   "metadata": {},
   "outputs": [],
   "source": [
    "g_large = nk.generators.RmatGenerator(scale = 15, edgeFactor = 12, a = 0.57, b = 0.19, c = 0.19, d = 0.05).generate()\n",
    "print(\"Generated graph: {:,} nodes and {:,} edges\".format(g_large.numberOfNodes(), g_large.numberOfEdges()))\n",
    "print(\"Number of CCs: {:,}\".format(nk.components.ConnectedComponents(g_large).run().numberOfComponents()))"
   ]
  },
  {
   "cell_type": "markdown",
   "id": "fatty-rubber",
   "metadata": {},
   "source": [
    "## Random Hyperbolic Model\n",
    "\n",
    "Generate large-scale complex networks with power-law degree distribution:\n",
    "- ditribute $n$ vertices uniformly at random into a unit disk in hyperbolic space\n",
    "- connect all the vertices that are within a certain (hyperbolic) distance\n",
    "\n",
    "<img src=\"./images/rhg.png\" alt=\"drawing\" width=\"300\"/>\n",
    "[source: von Looz et al. Generating Random Hyperbolic Graphs in Subquadratic Time]"
   ]
  },
  {
   "cell_type": "code",
   "execution_count": null,
   "id": "eligible-resource",
   "metadata": {},
   "outputs": [],
   "source": [
    "# n: #of nodes\n",
    "# k: average degree\n",
    "# gamma: power-law exponent\n",
    "\n",
    "g = nk.generators.HyperbolicGenerator(2**15, k=24, gamma=3).generate()\n",
    "print(\"Generated graph: {:,} nodes and {:,} edges\".format(g.numberOfNodes(), g.numberOfEdges()))\n",
    "print(\"Number of CCs: {:,}\".format(nk.components.ConnectedComponents(g).run().numberOfComponents()))"
   ]
  },
  {
   "cell_type": "code",
   "execution_count": null,
   "id": "popular-redhead",
   "metadata": {},
   "outputs": [],
   "source": [
    "widg = csbridge.widget_from_graph(nk.generators.HyperbolicGenerator(2**5, k=16, gamma=3).generate())\n",
    "widg.set_layout(name='circle')\n",
    "widg"
   ]
  },
  {
   "cell_type": "code",
   "execution_count": null,
   "id": "attractive-wilderness",
   "metadata": {},
   "outputs": [],
   "source": [
    "import numpy as np\n",
    "import matplotlib.pyplot as plt\n",
    "from collections import Counter\n",
    "\n",
    "# Degree of every vertex\n",
    "degrees = [g.degree(u) for u in g.iterNodes()]\n",
    "\n",
    "# Sort by degree (descending order)\n",
    "deg_count = np.array(sorted(Counter(degrees).items(), key=lambda x: x[0]))\n",
    "\n",
    "# Plot degree distribution (log-log plot)\n",
    "fig, ax = plt.subplots()\n",
    "ax.set_xscale('log', base=2)\n",
    "ax.set_yscale('log', base=2)\n",
    "ax.loglog(deg_count[1:, 0], deg_count[1:, 1], label='Degree distribution')\n",
    "ax.grid(True)\n",
    "ax.set_xlabel('Degree')\n",
    "_=ax.legend()"
   ]
  }
 ],
 "metadata": {
  "kernelspec": {
   "display_name": "Python 3",
   "language": "python",
   "name": "python3"
  },
  "language_info": {
   "codemirror_mode": {
    "name": "ipython",
    "version": 3
   },
   "file_extension": ".py",
   "mimetype": "text/x-python",
   "name": "python",
   "nbconvert_exporter": "python",
   "pygments_lexer": "ipython3",
   "version": "3.9.2"
  }
 },
 "nbformat": 4,
 "nbformat_minor": 5
}
