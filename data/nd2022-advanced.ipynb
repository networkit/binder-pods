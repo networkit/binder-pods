{
 "cells": [
  {
   "cell_type": "code",
   "execution_count": null,
   "id": "2eb033be",
   "metadata": {},
   "outputs": [],
   "source": [
    "import networkit as nk\n",
    "import networkit.vizbridges\n",
    "import ipywidgets as iw\n",
    "import plotly\n",
    "\n",
    "def apply_layout(widget):\n",
    "    widget.update_layout(margin=plotly.graph_objs.layout.Margin(l=10, r=10, b=0, t=0))\n",
    "\n",
    "G = nk.readGraph(\"input/karate.graph\", nk.Format.METIS)"
   ]
  },
  {
   "cell_type": "markdown",
   "id": "3b1a3e86",
   "metadata": {},
   "source": [
    "# New Feature: 3D Plots"
   ]
  },
  {
   "cell_type": "code",
   "execution_count": null,
   "id": "dbfc1465",
   "metadata": {},
   "outputs": [],
   "source": [
    "def make_widget(algo):\n",
    "    if algo == 'Electrical Closeness':\n",
    "        centrality = nk.centrality.ApproxElectricalCloseness(G)\n",
    "    elif algo == 'Harmonic':\n",
    "        centrality = nk.centrality.HarmonicCloseness(G)\n",
    "    else:\n",
    "        raise RuntimeError('Bad algorithm')\n",
    "    centrality.run()\n",
    "    widget = nk.vizbridges.widgetFromGraph(G, dimension = nk.vizbridges.Dimension.Three,\n",
    "                                         nodeScores=centrality.scores(), customSize=500)\n",
    "    apply_layout(widget)\n",
    "    return widget\n",
    "\n",
    "iw.interact(make_widget, algo=['Electrical Closeness', 'Harmonic']);"
   ]
  },
  {
   "cell_type": "markdown",
   "id": "da1dc2ff",
   "metadata": {},
   "source": [
    "# New Algorithms: (Parallel) Leiden, Louvain based on Map Equation"
   ]
  },
  {
   "cell_type": "code",
   "execution_count": null,
   "id": "9eb7bae7",
   "metadata": {},
   "outputs": [],
   "source": [
    "def make_widget(algo):\n",
    "    if algo == 'Leiden':\n",
    "        community = nk.community.ParallelLeiden(G)\n",
    "        community.run()\n",
    "        p = community.getPartition()\n",
    "        p.compact()\n",
    "    elif algo == 'Map Equation':\n",
    "        community = nk.community.LouvainMapEquation(G)\n",
    "        community.run()\n",
    "        p = community.getPartition()\n",
    "        p.compact()\n",
    "    else:\n",
    "        raise RuntimeError('Bad algorithm')\n",
    "\n",
    "    widget = nk.vizbridges.widgetFromGraph(G, dimension = nk.vizbridges.Dimension.Three,\n",
    "                                           nodePartition=p, customSize=500)\n",
    "    apply_layout(widget)\n",
    "    return widget\n",
    "\n",
    "iw.interact(make_widget, algo=['Leiden', 'Map Equation']);"
   ]
  },
  {
   "cell_type": "markdown",
   "id": "e8966606",
   "metadata": {},
   "source": [
    "# New Algorithm: Local Fitness Method (LFM)"
   ]
  },
  {
   "cell_type": "code",
   "execution_count": null,
   "id": "70bb178f",
   "metadata": {},
   "outputs": [],
   "source": [
    "local = nk.scd.LFMLocal(G)\n",
    "lfm = nk.community.LFM(G, local)\n",
    "lfm.run()\n",
    "cover = lfm.getCover()\n",
    "\n",
    "parts = list(range(0, cover.numberOfSubsets()))\n",
    "\n",
    "def make_widget(part):\n",
    "    s = set(cover.getMembers(part))\n",
    "    p = nk.Partition(G.upperNodeIdBound())\n",
    "    p.allToSingletons()\n",
    "    for u in range(0, G.upperNodeIdBound()):\n",
    "        p.moveToSubset(1 if u in s else 0, u)\n",
    "\n",
    "    widget = nk.vizbridges.widgetFromGraph(G, dimension = nk.vizbridges.Dimension.Three,\n",
    "                                           nodePartition=p, customSize=500)\n",
    "    apply_layout(widget)\n",
    "    return widget\n",
    "\n",
    "iw.interact(make_widget, part=parts);"
   ]
  }
 ],
 "metadata": {
  "kernelspec": {
   "display_name": "Python 3 (ipykernel)",
   "language": "python",
   "name": "python3"
  },
  "language_info": {
   "codemirror_mode": {
    "name": "ipython",
    "version": 3
   },
   "file_extension": ".py",
   "mimetype": "text/x-python",
   "name": "python",
   "nbconvert_exporter": "python",
   "pygments_lexer": "ipython3",
   "version": "3.9.7"
  }
 },
 "nbformat": 4,
 "nbformat_minor": 5
}
