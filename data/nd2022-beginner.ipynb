{
 "cells": [
  {
   "cell_type": "markdown",
   "metadata": {},
   "source": [
    "# Workshop for Beginners"
   ]
  },
  {
   "cell_type": "code",
   "execution_count": null,
   "metadata": {},
   "outputs": [],
   "source": [
    "from collections import Counter\n",
    "import matplotlib.pyplot as plt\n",
    "import numpy as np\n",
    "import seaborn as sns\n",
    "from tabulate import tabulate\n",
    "\n",
    "import networkit as nk\n",
    "from networkit import csbridge"
   ]
  },
  {
   "cell_type": "markdown",
   "metadata": {},
   "source": [
    "NetworKit is organized in **modules**.\n",
    "\n",
    "`nk.<module_name>.<feature_name>`"
   ]
  },
  {
   "cell_type": "markdown",
   "metadata": {},
   "source": [
    "# 1. Reading a graph\n",
    "\n",
    "NetworKit provides readers for popular graph formats:\n",
    "- Edge lists\n",
    "- KONECT: networks downloaded from http://konect.cc/networks/\n",
    "- SNAP: networks downloaded from http://snap.stanford.edu/data/index.html\n",
    "- More formats: https://networkit.github.io/dev-docs/python_api/graphio.html"
   ]
  },
  {
   "cell_type": "markdown",
   "metadata": {},
   "source": [
    "Example: read a graph downloaded from KONECT.\n",
    "\n",
    "We use the **graphio** module."
   ]
  },
  {
   "cell_type": "code",
   "execution_count": null,
   "metadata": {},
   "outputs": [],
   "source": [
    "# Create a graph reader\n",
    "reader = nk.graphio.KONECTGraphReader()\n",
    "\n",
    "# Read the graph\n",
    "G = reader.read(\"./input/karate\")\n",
    "\n",
    "# Print some info about the graph\n",
    "print(f\"The graph has {G.numberOfNodes()} vertices and {G.numberOfEdges()} edges.\")"
   ]
  },
  {
   "cell_type": "code",
   "execution_count": null,
   "metadata": {},
   "outputs": [],
   "source": [
    "nk.csbridge.widget_from_graph(G)"
   ]
  },
  {
   "cell_type": "markdown",
   "metadata": {},
   "source": [
    "# 2 Computation of Central Vertices"
   ]
  },
  {
   "cell_type": "markdown",
   "metadata": {},
   "source": [
    "**Centrality:** identify important vertices in a graph.\n",
    "\n",
    "## 2.1 Harmonic Closeness Centrality\n",
    "\n",
    "Let $G = (V, E)$ be our input graph. The **harmonic closeness** of a vertex $v \\in V$ is defined as:\n",
    "\n",
    "$$\n",
    "h(v) = \\sum_{w \\in V\\setminus\\{v\\}}\\frac{n - 1}{d(v, w)}\n",
    "$$"
   ]
  },
  {
   "cell_type": "markdown",
   "metadata": {},
   "source": [
    "- Measures how much a vertex $v$ is \"close\" to the other vertices\n",
    "- Time complexity (per vertex): $\\mathcal{O}(n + m)$ for unweighted graphs \n",
    "$\\rightarrow$ for large graphs, use `TopHarmonicCloseness`"
   ]
  },
  {
   "cell_type": "markdown",
   "metadata": {},
   "source": [
    "### Compute the harmonic closeness of all the vertices in $G$<br/>Visualize the distribution of the scores"
   ]
  },
  {
   "cell_type": "code",
   "execution_count": null,
   "metadata": {},
   "outputs": [],
   "source": [
    "# General NetworKit algorithm pipeline\n",
    "\n",
    "# 1. Create an intance of the algorithm\n",
    "hc = nk.centrality.HarmonicCloseness(G, normalized=False)\n",
    "\n",
    "# 2. Run the algorithm\n",
    "hc.run()\n",
    "\n",
    "# 3. Extract the results\n",
    "harmonic = hc.scores()\n",
    "\n",
    "# 4. Visualize the data\n",
    "_ = plt.hist(harmonic)"
   ]
  },
  {
   "cell_type": "code",
   "execution_count": null,
   "metadata": {},
   "outputs": [],
   "source": [
    "# Visualize harmonic centrality values\n",
    "nk.csbridge.widget_from_graph(G, node_scores = harmonic)"
   ]
  },
  {
   "cell_type": "code",
   "execution_count": null,
   "metadata": {},
   "outputs": [],
   "source": [
    "# Visualize with another color palette\n",
    "palette = sns.color_palette(\"crest\", G.numberOfNodes())\n",
    "nk.csbridge.widget_from_graph(G, node_scores = harmonic, node_palette=palette)"
   ]
  },
  {
   "cell_type": "markdown",
   "metadata": {},
   "source": [
    "## Top-$k$ Vertex Ranking\n",
    "\n",
    "Often, we are interested in the ranking of the top-$k$ most central vertices."
   ]
  },
  {
   "cell_type": "code",
   "execution_count": null,
   "metadata": {},
   "outputs": [],
   "source": [
    "# Top-k algorithm to get the top-5 harmonic centrality ranking\n",
    "topk_algo = nk.centrality.TopHarmonicCloseness(G, k = 5)\n",
    "\n",
    "# Run the algorithm\n",
    "topk_algo.run()\n",
    "\n",
    "# Get the top-5 vertices and scores\n",
    "topk_nodes, topk_scores = topk_algo.topkNodesList(), topk_algo.topkScoresList()\n",
    "\n",
    "# Print the top-5 ranking\n",
    "print(tabulate([(u, s) for u, s in zip(topk_nodes, topk_scores)], headers = [\"Vertex\", \"Score\"]))"
   ]
  },
  {
   "cell_type": "code",
   "execution_count": null,
   "metadata": {},
   "outputs": [],
   "source": [
    "# Label vertices:\n",
    "# True => is in top-5\n",
    "# False => is not in top-5\n",
    "\n",
    "in_top_k = [False] * G.numberOfNodes()\n",
    "\n",
    "for u in topk_nodes:\n",
    "    in_top_k[u] = True\n",
    "    \n",
    "nk.csbridge.widget_from_graph(G, node_partition = nk.structures.Partition(G.numberOfNodes(), in_top_k))"
   ]
  },
  {
   "cell_type": "markdown",
   "metadata": {},
   "source": [
    "# 3. Graph Generators\n",
    "\n",
    "The **generators** module provides a wide range of models to generate graphs.\n",
    "\n",
    "` G = nk.generators.<generator_constructor>.generate()`"
   ]
  },
  {
   "cell_type": "markdown",
   "metadata": {},
   "source": [
    "### 3.1 Random Hyperbolic Generator\n",
    "\n",
    "Generates **complex networks** with a power-law degree distribution. Parameters:\n",
    "\n",
    "`n` number of vertices in the graph\n",
    "\n",
    "`avg_deg` average vertex degree\n",
    "\n",
    "`gamma` exponent of the power-law degree distribution"
   ]
  },
  {
   "cell_type": "code",
   "execution_count": null,
   "metadata": {},
   "outputs": [],
   "source": [
    "# Parameters:\n",
    "n, avg_deg, exp = 1e5, 10, 3\n",
    "\n",
    "# Gererate the graph\n",
    "G_cplx = nk.generators.HyperbolicGenerator(n, avg_deg, exp).generate()\n",
    "\n",
    "# Degree of every vertex\n",
    "degrees = [G_cplx.degree(u) for u in G_cplx.iterNodes()]\n",
    "\n",
    "# Sort by degree (descending order)\n",
    "deg_count = np.array(sorted(Counter(degrees).items(), key=lambda x: x[0]))\n",
    "\n",
    "# Plot degree distribution (log-log plot)\n",
    "fig, ax = plt.subplots()\n",
    "ax.set_xscale('log', base=2)\n",
    "ax.set_yscale('log', base=2)\n",
    "ax.set_xlabel(\"Degree\")\n",
    "ax.set_ylabel(\"#of vertices\")\n",
    "ax.loglog(deg_count[1:, 0], deg_count[1:, 1], label='Degree distribution')\n",
    "_ = ax.legend()"
   ]
  },
  {
   "cell_type": "markdown",
   "metadata": {},
   "source": [
    "### 3.2 Clustered Random Graph Generator\n",
    "Generates random graphs **with clusters**.\n",
    "\n",
    "`n`: number of vertices in the graph\n",
    "\n",
    "`num_clusters`: number of clusters/communities in the graph\n",
    "\n",
    "`p_in`: intra-cluster edge probability\n",
    "\n",
    "`p_out`: inter-cluster edge probability"
   ]
  },
  {
   "cell_type": "code",
   "execution_count": null,
   "metadata": {},
   "outputs": [],
   "source": [
    "nk.engineering.setSeed(42, False)\n",
    "\n",
    "# Parameters\n",
    "n, num_clusters, p_in, p_out = 60, 3, 0.3, 0.005\n",
    "cluster_gen = nk.generators.ClusteredRandomGraphGenerator(n, num_clusters, p_in, p_out)\n",
    "\n",
    "# Generate a clustered random graph\n",
    "G_cluster = cluster_gen.generate()\n",
    "\n",
    "# Visualize the graph and its communities\n",
    "nk.csbridge.widget_from_graph(G_cluster, node_partition = cluster_gen.getCommunities())"
   ]
  },
  {
   "cell_type": "markdown",
   "metadata": {},
   "source": [
    "## 4. Community Detection\n",
    "\n",
    "### Objective\n",
    "Identify the community structure of a graph.\n",
    "\n",
    "### Methodology: Modularity Optimization\n",
    "Maximize the modularity:\n",
    "\n",
    "$$\n",
    "Q = \\frac{1}{2M}\\sum_{i \\in V}\\sum_{j \\in V}\\left( w(i, j) - \\frac{\\deg(i)\\deg(j)}{2M} \\right)\n",
    "\\delta\\left(c_i, c_j\\right)\n",
    "$$\n",
    "\n",
    "### Popular algorithm: Louvain Method"
   ]
  },
  {
   "cell_type": "code",
   "execution_count": null,
   "metadata": {},
   "outputs": [],
   "source": [
    "# 1. Create an instance of the Parallel Louvain Method\n",
    "plm = nk.community.PLM(G_cluster)\n",
    "\n",
    "# 2. Run the algorithm\n",
    "plm.run()\n",
    "\n",
    "# 3. Draw the partitioning of the communities\n",
    "nk.csbridge.widget_from_graph(G_cluster, node_partition = plm.getPartition())"
   ]
  }
 ],
 "metadata": {
  "kernelspec": {
   "display_name": "Python 3 (ipykernel)",
   "language": "python",
   "name": "python3"
  },
  "language_info": {
   "codemirror_mode": {
    "name": "ipython",
    "version": 3
   },
   "file_extension": ".py",
   "mimetype": "text/x-python",
   "name": "python",
   "nbconvert_exporter": "python",
   "pygments_lexer": "ipython3",
   "version": "3.10.2"
  }
 },
 "nbformat": 4,
 "nbformat_minor": 4
}
